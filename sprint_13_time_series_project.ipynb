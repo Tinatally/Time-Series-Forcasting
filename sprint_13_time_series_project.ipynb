{
 "cells": [
  {
   "cell_type": "markdown",
   "metadata": {},
   "source": [
    "**Review**\n",
    "\n",
    "Hi, my name is Dmitry and I will be reviewing your project.\n",
    "  \n",
    "You can find my comments in colored markdown cells:\n",
    "  \n",
    "<div class=\"alert alert-success\">\n",
    "  If everything is done successfully.\n",
    "</div>\n",
    "  \n",
    "<div class=\"alert alert-warning\">\n",
    "  If I have some (optional) suggestions, or questions to think about, or general comments.\n",
    "</div>\n",
    "  \n",
    "<div class=\"alert alert-danger\">\n",
    "  If a section requires some corrections. Work can't be accepted with red comments.\n",
    "</div>\n",
    "  \n",
    "Please don't remove my comments, as it will make further review iterations much harder for me.\n",
    "  \n",
    "Feel free to reply to my comments or ask questions using the following template:\n",
    "  \n",
    "<div class=\"alert alert-info\">\n",
    "  For your comments and questions.\n",
    "</div>\n",
    "  \n",
    "First of all, thank you for turning in the project! You did an excellent job! The project is accepted. Good luck on the next sprint!"
   ]
  },
  {
   "cell_type": "markdown",
   "metadata": {},
   "source": [
    "# Project description\n",
    "\n",
    "Sweet Lift Taxi company has collected historical data on taxi orders at airports. To attract more drivers during peak hours, we need to predict the amount of taxi orders for the next hour. Build a model for such a prediction.\n",
    "\n",
    "The RMSE metric on the test set should not be more than 48.\n",
    "\n",
    "## Project instructions\n",
    "\n",
    "1. Download the data and resample it by one hour.\n",
    "2. Analyze the data.\n",
    "3. Train different models with different hyperparameters. The test sample should be 10% of the initial dataset. \n",
    "4. Test the data using the test sample and provide a conclusion.\n",
    "\n",
    "## Data description\n",
    "\n",
    "The data is stored in file `taxi.csv`. The number of orders is in the '*num_orders*' column."
   ]
  },
  {
   "cell_type": "markdown",
   "metadata": {},
   "source": [
    "## Preparation"
   ]
  },
  {
   "cell_type": "code",
   "execution_count": 1,
   "metadata": {},
   "outputs": [],
   "source": [
    "import pandas as pd\n",
    "import numpy as np\n",
    "import seaborn as sb\n",
    "%matplotlib inline\n",
    "import matplotlib.pyplot as plt\n",
    "from sklearn.model_selection import train_test_split, GridSearchCV,TimeSeriesSplit\n",
    "from sklearn.metrics import mean_absolute_error, mean_squared_error\n",
    "from statsmodels.tsa.seasonal import seasonal_decompose\n",
    "from statsmodels.graphics.tsaplots import plot_acf\n",
    "from statsmodels.graphics.tsaplots import plot_pacf\n",
    "from sklearn.linear_model import LinearRegression\n",
    "from sklearn.tree import DecisionTreeRegressor\n",
    "from sklearn.ensemble import RandomForestRegressor\n",
    "from sklearn.preprocessing import StandardScaler\n",
    "from lightgbm import LGBMRegressor\n",
    "from xgboost import XGBRegressor\n",
    "\n",
    "\n",
    "import sys\n",
    "import warnings\n",
    "\n",
    "if not sys.warnoptions:\n",
    "    warnings.simplefilter(\"ignore\")"
   ]
  },
  {
   "cell_type": "code",
   "execution_count": 2,
   "metadata": {},
   "outputs": [],
   "source": [
    "try:\n",
    "    taxi_df = pd.read_csv('https://code.s3.yandex.net/datasets/taxi.csv')\n",
    "except:\n",
    "    taxi_df = pd.read_csv('/datasets/taxi.csv')"
   ]
  },
  {
   "cell_type": "code",
   "execution_count": 3,
   "metadata": {},
   "outputs": [],
   "source": [
    "def get_info(df):\n",
    "    print('Head:')\n",
    "    display(df.head())\n",
    "    print('--END--')\n",
    "    print('Info:')\n",
    "    display(df.info())\n",
    "    print('--END--')\n",
    "    print('Missing values:')\n",
    "    display(df.isnull().sum()/df.shape[0])\n",
    "    print('--END--')\n",
    "    print('Duplicates:')\n",
    "    display(df.duplicated().sum())\n",
    "    print('--END--')\n",
    "    print('Describe:')\n",
    "    display(df.describe())\n",
    "    \n",
    "def test_stationarity(df):\n",
    "    \"\"\"\n",
    "        Takes dataframe and test for stationarity.\n",
    "        Compute the rolling mean for 10 days\n",
    "        compute the rolling standard deviation for 10days\n",
    "    \"\"\"\n",
    "    rolmean = df['num_orders'].rolling(10).mean()\n",
    "    rolstd = df['num_orders'].rolling(10).std()\n",
    "    \n",
    "    org = plt.plot(df, color = 'blue',label='Original')\n",
    "    mean = plt.plot(rolmean, color='red', label = 'Rolling mean')\n",
    "    std = plt.plot(rolstd, color = 'green', label = 'Rolling std')\n",
    "    plt.legend(loc='best')\n",
    "    plt.title('Rolling mean and Standard deviation')\n",
    "    plt.show(block=False)\n",
    "    \n",
    "def data_difference(df):\n",
    "    \"\"\"\n",
    "        Takes the dataframe and plots results after analysis\n",
    "        taxi_diff: computes the series difference\n",
    "        diff_mean: computes the rolling mean of series difference\n",
    "        diff_std: computes the rooling std of series difference\n",
    "    \"\"\"\n",
    "    taxi_diff = taxi_df.diff(periods=1)\n",
    "    diff_mean = taxi_diff.rolling(10).mean()\n",
    "    diff_std = taxi_diff.rolling(10).std()\n",
    "    \n",
    "    org = plt.plot(taxi_diff, color = 'blue',label='Difference')\n",
    "    mean = plt.plot(diff_mean, color='red', label = 'Diff mean')\n",
    "    std = plt.plot(diff_std, color = 'green', label = 'Diff std')\n",
    "    plt.legend(loc='best')\n",
    "    plt.title('Series Difference: Rolling mean and Standard deviation')\n",
    "    plt.show(block=False)\n",
    "    \n",
    "def decomposed_plot(taxi_df):\n",
    "    \"\"\"\n",
    "        Takes dataframe and plots results after analysis\n",
    "        decomposition: data is decomposed \n",
    "        trend: captures the trend in the data\n",
    "        seasonal: captures the seasonal variations in data\n",
    "        residual: captures the residual in the data\n",
    "    \"\"\"\n",
    "    decomposition = seasonal_decompose(taxi_df)\n",
    "    trend = decomposition.trend\n",
    "    seasonal = decomposition.seasonal\n",
    "    residual = decomposition.resid\n",
    "    \n",
    "    plt.figure(figsize=(8,8))\n",
    "    plt.subplot(411)\n",
    "    plt.plot(taxi_df,label='Original')\n",
    "    plt.subplot(412)\n",
    "    plt.plot(trend,label = 'Trend')\n",
    "    plt.legend(loc='best')\n",
    "    plt.subplot(413)\n",
    "    plt.plot(seasonal, label='Seasonal')\n",
    "    plt.legend(loc='best')\n",
    "    plt.subplot(414)\n",
    "    plt.plot(residual, label='Residual')\n",
    "    plt.legend(loc='Residual')\n",
    "    plt.tight_layout()\n",
    "\n",
    "def create_features(df, max_lag,rolling_mean_size):\n",
    "    \"\"\"\n",
    "        Takes the dataframe, number of lagging, \n",
    "        and number rolling and returns a new dataframe \n",
    "        New features are creatured for year, month, day, dayofmonth, hour, weekend\n",
    "    \"\"\"\n",
    "    df['year'] = df.index.year\n",
    "    df['month'] = df.index.month\n",
    "    df['day'] = df.index.day\n",
    "    df['dayofweek'] = df.index.dayofweek\n",
    "    df['dayofmonth'] = df.index.day\n",
    "    df['hour'] = df.index.hour\n",
    "    df['is_weekend'] = df.dayofweek.isin([5,6])*1\n",
    "    \n",
    "    for lag in range(1, max_lag +1):\n",
    "        df['lag_{}'.format(lag)] = df['num_orders'].shift(lag)\n",
    "    df['rolling_mean'] = df['num_orders'].shift().rolling(rolling_mean_size).mean()\n",
    "    \n",
    "    return df\n",
    "\n",
    "def linear_Regression(x_train, x_test, y_train, y_test):\n",
    "    \"\"\"\n",
    "        Takes the training and test dataset\n",
    "        Scales the data\n",
    "        Using Linear Regression, the data is trained and predictions made using  \n",
    "         for both test and training set for their MAE and RMSE\n",
    "    \"\"\"\n",
    "    scaler = StandardScaler()\n",
    "    scaler.fit(x_train)\n",
    "    x_train = scaler.transform(x_train)\n",
    "    x_test = scaler.transform(x_test)\n",
    "    lr = LinearRegression().fit(x_train, y_train)\n",
    "    predict_test = lr.predict(x_test)\n",
    "    predict_train = lr.predict(x_train)\n",
    "    print('MAE for train data:',mean_absolute_error(y_train,predict_train ))\n",
    "    print('MAE for test data:',mean_absolute_error(y_test,predict_test))\n",
    "    print('RMSE for train data:', mean_squared_error(y_train,predict_train)**0.5)\n",
    "    print('RMSE for train data:', mean_squared_error(y_test,predict_test)**0.5)\n",
    "    \n",
    "def Decision_tree_reg(x_train, x_test, y_train, y_test):\n",
    "    \"\"\"\n",
    "        Takes the training and test dataset\n",
    "        Using Decision Tree Regression, the data is \n",
    "            trained and predictions made using for both \n",
    "            test and training set for their MAE and RMSE\n",
    "    \"\"\"\n",
    "    params = {'min_samples_split': range(2,20,2),\n",
    "             'max_depth': range(2,8,2)}\n",
    "    tscv = TimeSeriesSplit(n_splits=5)\n",
    "    grid = GridSearchCV(DecisionTreeRegressor(random_state=123),\n",
    "                       params, scoring='neg_root_mean_squared_error',\n",
    "                        cv=tscv, refit=True)\n",
    "    grid.fit(x_train,y_train)\n",
    "    dtr = DecisionTreeRegressor(**grid.best_params_).fit(x_train,y_train)\n",
    "    predict_test = dtr.predict(x_test)\n",
    "    predict_train = dtr.predict(x_train)\n",
    "    print('MAE for train data:',mean_absolute_error(y_train,predict_train ))\n",
    "    print('MAE for test data:',mean_absolute_error(y_test,predict_test))\n",
    "    print('RMSE for train data:', mean_squared_error(y_train,predict_train)**0.5)\n",
    "    print('RMSE for train data:', mean_squared_error(y_test,predict_test)**0.5)\n",
    "\n",
    "def RandomforestReg(x_train, x_test, y_train, y_test):\n",
    "    \"\"\"\n",
    "        Takes the training and test dataset\n",
    "        Using RandomForest Regression, the data is \n",
    "            trained and predictions made using for both \n",
    "            test and training set for their MAE and RMSE\n",
    "    \"\"\"\n",
    "    params = {'min_samples_split': range(10, 40, 10), \n",
    "              'max_depth': range(4,16,4), \n",
    "              'n_estimators':range(50,60,5),\n",
    "              'max_features':range(3,10,2)}\n",
    "    tscv = TimeSeriesSplit(n_splits=5)\n",
    "    grid = GridSearchCV(RandomForestRegressor(),\n",
    "                        param_grid=params,scoring='neg_root_mean_squared_error', \n",
    "                        cv=tscv,n_jobs=5)\n",
    "    grid.fit(x_train, y_train)\n",
    "    rfr = RandomForestRegressor(**grid.best_params_).fit(x_train, y_train)\n",
    "    predict_test = rfr.predict(x_test)\n",
    "    predict_train = rfr.predict(x_train)\n",
    "    print('MAE for train data:',mean_absolute_error(y_train,predict_train ))\n",
    "    print('MAE for test data:',mean_absolute_error(y_test,predict_test))\n",
    "    print('RMSE for train data:', mean_squared_error(y_train,predict_train)**0.5)\n",
    "    print('RMSE for train data:', mean_squared_error(y_test,predict_test)**0.5)\n",
    "\n",
    "def xgboost(x_train, x_test,y_train, y_test):\n",
    "    \"\"\"\n",
    "        Takes the training and test datasets and returns the MAE and RMSE.\n",
    "        Params: set of parameters to train with \n",
    "        grid: Searches through the params and selects the best option\n",
    "        XGBRegressor is used to train and predict the model\n",
    "    \"\"\"\n",
    "    params = {'max_depth': [4,8],\n",
    "              'objective':['reg:squarederror'],\n",
    "              'learning_rate':[0.1]}\n",
    "    tscv = TimeSeriesSplit(n_splits=5)\n",
    "    grid = GridSearchCV(XGBRegressor(random_state=123),\n",
    "                        param_grid=params,\n",
    "                        scoring='neg_root_mean_squared_error', cv=tscv)\n",
    "    grid.fit(x_train, y_train)\n",
    "    xgbr = XGBRegressor(**grid.best_params_)\n",
    "    xgbr.fit(x_train,y_train,eval_set=[(x_test,y_test)], eval_metric='rmse')\n",
    "    predict_test = xgbr.predict(x_test)\n",
    "    predict_train = xgbr.predict(x_train)\n",
    "    print('MAE for train data:',mean_absolute_error(y_train,predict_train ))\n",
    "    print('MAE for test data:',mean_absolute_error(y_test,predict_test))\n",
    "    print('RMSE for train data:', mean_squared_error(y_train,predict_train)**0.5)\n",
    "    print('RMSE for train data:', mean_squared_error(y_test,predict_test)**0.5)\n",
    "\n",
    "def Lightgbmreg(x_train,x_test,y_train,y_test):\n",
    "    \"\"\"\n",
    "        Takes the training and test datasets and returns the MAE and RMSE.\n",
    "        Params: set of parameters to train with \n",
    "        grid: Searches through the params and selects the best option\n",
    "        LGBMRegressor is used to train and predict the model\n",
    "    \"\"\"\n",
    "    params = {'learning_rate': [0.1],\n",
    "              'max_depth': [6,8],\n",
    "              'n_estimator':[100,400]}\n",
    "    tscv = TimeSeriesSplit(n_splits=5)\n",
    "    g_cv = GridSearchCV(LGBMRegressor(random_state=123),\n",
    "                        scoring='neg_root_mean_squared_error',\n",
    "                        param_grid=params, cv=tscv)\n",
    "    g_cv.fit(x_train, y_train)\n",
    "    lgbm = LGBMRegressor(**g_cv.best_params_)\n",
    "    lgbm.fit(x_train,y_train,verbose=1)           \n",
    "    predict_test = lgbm.predict(x_test)\n",
    "    predict_train = lgbm.predict(x_train)\n",
    "    print('MAE for train data:',mean_absolute_error(y_train,predict_train ))\n",
    "    print('MAE for test data:',mean_absolute_error(y_test,predict_test))\n",
    "    print('RMSE for train data:', mean_squared_error(y_train,predict_train)**0.5)\n",
    "    print('RMSE for train data:', mean_squared_error(y_test,predict_test)**0.5)"
   ]
  },
  {
   "cell_type": "code",
   "execution_count": 4,
   "metadata": {
    "scrolled": true
   },
   "outputs": [
    {
     "name": "stdout",
     "output_type": "stream",
     "text": [
      "Head:\n"
     ]
    },
    {
     "data": {
      "text/html": [
       "<div>\n",
       "<style scoped>\n",
       "    .dataframe tbody tr th:only-of-type {\n",
       "        vertical-align: middle;\n",
       "    }\n",
       "\n",
       "    .dataframe tbody tr th {\n",
       "        vertical-align: top;\n",
       "    }\n",
       "\n",
       "    .dataframe thead th {\n",
       "        text-align: right;\n",
       "    }\n",
       "</style>\n",
       "<table border=\"1\" class=\"dataframe\">\n",
       "  <thead>\n",
       "    <tr style=\"text-align: right;\">\n",
       "      <th></th>\n",
       "      <th>datetime</th>\n",
       "      <th>num_orders</th>\n",
       "    </tr>\n",
       "  </thead>\n",
       "  <tbody>\n",
       "    <tr>\n",
       "      <td>0</td>\n",
       "      <td>2018-03-01 00:00:00</td>\n",
       "      <td>9</td>\n",
       "    </tr>\n",
       "    <tr>\n",
       "      <td>1</td>\n",
       "      <td>2018-03-01 00:10:00</td>\n",
       "      <td>14</td>\n",
       "    </tr>\n",
       "    <tr>\n",
       "      <td>2</td>\n",
       "      <td>2018-03-01 00:20:00</td>\n",
       "      <td>28</td>\n",
       "    </tr>\n",
       "    <tr>\n",
       "      <td>3</td>\n",
       "      <td>2018-03-01 00:30:00</td>\n",
       "      <td>20</td>\n",
       "    </tr>\n",
       "    <tr>\n",
       "      <td>4</td>\n",
       "      <td>2018-03-01 00:40:00</td>\n",
       "      <td>32</td>\n",
       "    </tr>\n",
       "  </tbody>\n",
       "</table>\n",
       "</div>"
      ],
      "text/plain": [
       "              datetime  num_orders\n",
       "0  2018-03-01 00:00:00           9\n",
       "1  2018-03-01 00:10:00          14\n",
       "2  2018-03-01 00:20:00          28\n",
       "3  2018-03-01 00:30:00          20\n",
       "4  2018-03-01 00:40:00          32"
      ]
     },
     "metadata": {},
     "output_type": "display_data"
    },
    {
     "name": "stdout",
     "output_type": "stream",
     "text": [
      "--END--\n",
      "Info:\n",
      "<class 'pandas.core.frame.DataFrame'>\n",
      "RangeIndex: 26496 entries, 0 to 26495\n",
      "Data columns (total 2 columns):\n",
      "datetime      26496 non-null object\n",
      "num_orders    26496 non-null int64\n",
      "dtypes: int64(1), object(1)\n",
      "memory usage: 414.1+ KB\n"
     ]
    },
    {
     "data": {
      "text/plain": [
       "None"
      ]
     },
     "metadata": {},
     "output_type": "display_data"
    },
    {
     "name": "stdout",
     "output_type": "stream",
     "text": [
      "--END--\n",
      "Missing values:\n"
     ]
    },
    {
     "data": {
      "text/plain": [
       "datetime      0.0\n",
       "num_orders    0.0\n",
       "dtype: float64"
      ]
     },
     "metadata": {},
     "output_type": "display_data"
    },
    {
     "name": "stdout",
     "output_type": "stream",
     "text": [
      "--END--\n",
      "Duplicates:\n"
     ]
    },
    {
     "data": {
      "text/plain": [
       "0"
      ]
     },
     "metadata": {},
     "output_type": "display_data"
    },
    {
     "name": "stdout",
     "output_type": "stream",
     "text": [
      "--END--\n",
      "Describe:\n"
     ]
    },
    {
     "data": {
      "text/html": [
       "<div>\n",
       "<style scoped>\n",
       "    .dataframe tbody tr th:only-of-type {\n",
       "        vertical-align: middle;\n",
       "    }\n",
       "\n",
       "    .dataframe tbody tr th {\n",
       "        vertical-align: top;\n",
       "    }\n",
       "\n",
       "    .dataframe thead th {\n",
       "        text-align: right;\n",
       "    }\n",
       "</style>\n",
       "<table border=\"1\" class=\"dataframe\">\n",
       "  <thead>\n",
       "    <tr style=\"text-align: right;\">\n",
       "      <th></th>\n",
       "      <th>num_orders</th>\n",
       "    </tr>\n",
       "  </thead>\n",
       "  <tbody>\n",
       "    <tr>\n",
       "      <td>count</td>\n",
       "      <td>26496.000000</td>\n",
       "    </tr>\n",
       "    <tr>\n",
       "      <td>mean</td>\n",
       "      <td>14.070463</td>\n",
       "    </tr>\n",
       "    <tr>\n",
       "      <td>std</td>\n",
       "      <td>9.211330</td>\n",
       "    </tr>\n",
       "    <tr>\n",
       "      <td>min</td>\n",
       "      <td>0.000000</td>\n",
       "    </tr>\n",
       "    <tr>\n",
       "      <td>25%</td>\n",
       "      <td>8.000000</td>\n",
       "    </tr>\n",
       "    <tr>\n",
       "      <td>50%</td>\n",
       "      <td>13.000000</td>\n",
       "    </tr>\n",
       "    <tr>\n",
       "      <td>75%</td>\n",
       "      <td>19.000000</td>\n",
       "    </tr>\n",
       "    <tr>\n",
       "      <td>max</td>\n",
       "      <td>119.000000</td>\n",
       "    </tr>\n",
       "  </tbody>\n",
       "</table>\n",
       "</div>"
      ],
      "text/plain": [
       "         num_orders\n",
       "count  26496.000000\n",
       "mean      14.070463\n",
       "std        9.211330\n",
       "min        0.000000\n",
       "25%        8.000000\n",
       "50%       13.000000\n",
       "75%       19.000000\n",
       "max      119.000000"
      ]
     },
     "metadata": {},
     "output_type": "display_data"
    }
   ],
   "source": [
    "get_info(taxi_df)"
   ]
  },
  {
   "cell_type": "code",
   "execution_count": 5,
   "metadata": {},
   "outputs": [
    {
     "data": {
      "image/png": "[encoded data removed]",
      "text/plain": [
       "<Figure size 432x288 with 1 Axes>"
      ]
     },
     "metadata": {
      "needs_background": "light"
     },
     "output_type": "display_data"
    }
   ],
   "source": [
    "sb.distplot(taxi_df['num_orders'])\n",
    "plt.title('Distribution of num_orders')\n",
    "plt.ylabel('Frequency');"
   ]
  },
  {
   "cell_type": "code",
   "execution_count": 6,
   "metadata": {},
   "outputs": [
    {
     "data": {
      "text/plain": [
       "True"
      ]
     },
     "execution_count": 6,
     "metadata": {},
     "output_type": "execute_result"
    }
   ],
   "source": [
    "taxi_df['datetime'] = pd.to_datetime(taxi_df['datetime'])\n",
    "taxi_df = taxi_df.set_index('datetime')\n",
    "taxi_df.index.is_monotonic"
   ]
  },
  {
   "cell_type": "markdown",
   "metadata": {},
   "source": [
    "# Conclusion\n",
    "\n",
    "There are no missing or null or duplicated values in the dataset. Number of taxi orders column is right skewed with some outliers. \n",
    "The datetime column which was string value have been converted to the datetime fomart and column Subsequently  made the index."
   ]
  },
  {
   "cell_type": "markdown",
   "metadata": {},
   "source": [
    "<div class=\"alert alert-success\">\n",
    "<b>Reviewer's comment</b>\n",
    "\n",
    "The data was loaded and inspected. It's good that you checked that the data is monotonic!\n",
    "\n",
    "</div>"
   ]
  },
  {
   "cell_type": "markdown",
   "metadata": {},
   "source": [
    "## Analysis"
   ]
  },
  {
   "cell_type": "code",
   "execution_count": 7,
   "metadata": {},
   "outputs": [
    {
     "data": {
      "image/png": "[encoded data removed]",
      "text/plain": [
       "<Figure size 504x432 with 1 Axes>"
      ]
     },
     "metadata": {
      "needs_background": "light"
     },
     "output_type": "display_data"
    }
   ],
   "source": [
    "taxi_df.resample('1H').sum().plot(figsize = (7,6),title= 'Taxi orders from airport by date')\n",
    "plt.ylabel('Taxi orders');"
   ]
  },
  {
   "cell_type": "code",
   "execution_count": 8,
   "metadata": {},
   "outputs": [],
   "source": [
    "taxi_df = taxi_df.resample('1H').sum()"
   ]
  },
  {
   "cell_type": "markdown",
   "metadata": {},
   "source": [
    "<div class=\"alert alert-success\">\n",
    "<b>Reviewer's comment</b>\n",
    "\n",
    "Resampling is done correctly.\n",
    "\n",
    "</div>"
   ]
  },
  {
   "cell_type": "code",
   "execution_count": 9,
   "metadata": {},
   "outputs": [
    {
     "data": {
      "image/png": "[encoded data removed]",
      "text/plain": [
       "<Figure size 432x288 with 1 Axes>"
      ]
     },
     "metadata": {
      "needs_background": "light"
     },
     "output_type": "display_data"
    }
   ],
   "source": [
    "test_stationarity(taxi_df)"
   ]
  },
  {
   "cell_type": "markdown",
   "metadata": {},
   "source": [
    "The rolling mean of the data rises/varies over time indicating an increasing trend in the data."
   ]
  },
  {
   "cell_type": "code",
   "execution_count": 10,
   "metadata": {},
   "outputs": [
    {
     "data": {
      "image/png": "[encoded data removed]",
      "text/plain": [
       "<Figure size 432x288 with 1 Axes>"
      ]
     },
     "metadata": {
      "needs_background": "light"
     },
     "output_type": "display_data"
    }
   ],
   "source": [
    "plot_acf(taxi_df)\n",
    "plt.show()"
   ]
  },
  {
   "cell_type": "code",
   "execution_count": 11,
   "metadata": {},
   "outputs": [
    {
     "data": {
      "image/png": "[encoded data removed]",
      "text/plain": [
       "<Figure size 432x288 with 1 Axes>"
      ]
     },
     "metadata": {
      "needs_background": "light"
     },
     "output_type": "display_data"
    }
   ],
   "source": [
    "plot_pacf(taxi_df)\n",
    "plt.show()"
   ]
  },
  {
   "cell_type": "code",
   "execution_count": 12,
   "metadata": {},
   "outputs": [
    {
     "data": {
      "image/png": "[encoded data removed]",
      "text/plain": [
       "<Figure size 432x288 with 1 Axes>"
      ]
     },
     "metadata": {
      "needs_background": "light"
     },
     "output_type": "display_data"
    }
   ],
   "source": [
    "data_difference(taxi_df)"
   ]
  },
  {
   "cell_type": "code",
   "execution_count": 13,
   "metadata": {},
   "outputs": [
    {
     "data": {
      "image/png": "[encoded data removed]",
      "text/plain": [
       "<Figure size 432x288 with 1 Axes>"
      ]
     },
     "metadata": {
      "needs_background": "light"
     },
     "output_type": "display_data"
    }
   ],
   "source": [
    "(seasonal_decompose(taxi_df['2018-05-01':'2018-05-31']\n",
    "                    .resample('1D').sum().loc[:,'num_orders']).trend.plot());"
   ]
  },
  {
   "cell_type": "code",
   "execution_count": 14,
   "metadata": {},
   "outputs": [
    {
     "data": {
      "image/png": "[encoded data removed]",
      "text/plain": [
       "<Figure size 432x288 with 1 Axes>"
      ]
     },
     "metadata": {
      "needs_background": "light"
     },
     "output_type": "display_data"
    }
   ],
   "source": [
    "(seasonal_decompose(taxi_df['2018-05-01':'2018-05-31']\n",
    "                    .resample('1D').sum().loc[:,'num_orders']).seasonal.plot());"
   ]
  },
  {
   "cell_type": "code",
   "execution_count": 15,
   "metadata": {
    "scrolled": false
   },
   "outputs": [
    {
     "data": {
      "image/png": "[encoded data removed]",
      "text/plain": [
       "<Figure size 576x576 with 4 Axes>"
      ]
     },
     "metadata": {
      "needs_background": "light"
     },
     "output_type": "display_data"
    }
   ],
   "source": [
    "decomposed_plot(taxi_df)"
   ]
  },
  {
   "cell_type": "markdown",
   "metadata": {},
   "source": [
    "The decomposition of the data shows a repeating pattern in seasonality and an increase in trend over time. "
   ]
  },
  {
   "cell_type": "code",
   "execution_count": 16,
   "metadata": {},
   "outputs": [
    {
     "data": {
      "text/html": [
       "<div>\n",
       "<style scoped>\n",
       "    .dataframe tbody tr th:only-of-type {\n",
       "        vertical-align: middle;\n",
       "    }\n",
       "\n",
       "    .dataframe tbody tr th {\n",
       "        vertical-align: top;\n",
       "    }\n",
       "\n",
       "    .dataframe thead th {\n",
       "        text-align: right;\n",
       "    }\n",
       "</style>\n",
       "<table border=\"1\" class=\"dataframe\">\n",
       "  <thead>\n",
       "    <tr style=\"text-align: right;\">\n",
       "      <th></th>\n",
       "      <th>num_orders</th>\n",
       "      <th>year</th>\n",
       "      <th>month</th>\n",
       "      <th>day</th>\n",
       "      <th>dayofweek</th>\n",
       "      <th>dayofmonth</th>\n",
       "      <th>hour</th>\n",
       "      <th>is_weekend</th>\n",
       "      <th>lag_1</th>\n",
       "      <th>lag_2</th>\n",
       "      <th>lag_3</th>\n",
       "      <th>lag_4</th>\n",
       "      <th>lag_5</th>\n",
       "      <th>lag_6</th>\n",
       "      <th>rolling_mean</th>\n",
       "    </tr>\n",
       "    <tr>\n",
       "      <th>datetime</th>\n",
       "      <th></th>\n",
       "      <th></th>\n",
       "      <th></th>\n",
       "      <th></th>\n",
       "      <th></th>\n",
       "      <th></th>\n",
       "      <th></th>\n",
       "      <th></th>\n",
       "      <th></th>\n",
       "      <th></th>\n",
       "      <th></th>\n",
       "      <th></th>\n",
       "      <th></th>\n",
       "      <th></th>\n",
       "      <th></th>\n",
       "    </tr>\n",
       "  </thead>\n",
       "  <tbody>\n",
       "    <tr>\n",
       "      <td>2018-03-01 00:00:00</td>\n",
       "      <td>124</td>\n",
       "      <td>2018</td>\n",
       "      <td>3</td>\n",
       "      <td>1</td>\n",
       "      <td>3</td>\n",
       "      <td>1</td>\n",
       "      <td>0</td>\n",
       "      <td>0</td>\n",
       "      <td>NaN</td>\n",
       "      <td>NaN</td>\n",
       "      <td>NaN</td>\n",
       "      <td>NaN</td>\n",
       "      <td>NaN</td>\n",
       "      <td>NaN</td>\n",
       "      <td>NaN</td>\n",
       "    </tr>\n",
       "    <tr>\n",
       "      <td>2018-03-01 01:00:00</td>\n",
       "      <td>85</td>\n",
       "      <td>2018</td>\n",
       "      <td>3</td>\n",
       "      <td>1</td>\n",
       "      <td>3</td>\n",
       "      <td>1</td>\n",
       "      <td>1</td>\n",
       "      <td>0</td>\n",
       "      <td>124.0</td>\n",
       "      <td>NaN</td>\n",
       "      <td>NaN</td>\n",
       "      <td>NaN</td>\n",
       "      <td>NaN</td>\n",
       "      <td>NaN</td>\n",
       "      <td>NaN</td>\n",
       "    </tr>\n",
       "    <tr>\n",
       "      <td>2018-03-01 02:00:00</td>\n",
       "      <td>71</td>\n",
       "      <td>2018</td>\n",
       "      <td>3</td>\n",
       "      <td>1</td>\n",
       "      <td>3</td>\n",
       "      <td>1</td>\n",
       "      <td>2</td>\n",
       "      <td>0</td>\n",
       "      <td>85.0</td>\n",
       "      <td>124.0</td>\n",
       "      <td>NaN</td>\n",
       "      <td>NaN</td>\n",
       "      <td>NaN</td>\n",
       "      <td>NaN</td>\n",
       "      <td>NaN</td>\n",
       "    </tr>\n",
       "    <tr>\n",
       "      <td>2018-03-01 03:00:00</td>\n",
       "      <td>66</td>\n",
       "      <td>2018</td>\n",
       "      <td>3</td>\n",
       "      <td>1</td>\n",
       "      <td>3</td>\n",
       "      <td>1</td>\n",
       "      <td>3</td>\n",
       "      <td>0</td>\n",
       "      <td>71.0</td>\n",
       "      <td>85.0</td>\n",
       "      <td>124.0</td>\n",
       "      <td>NaN</td>\n",
       "      <td>NaN</td>\n",
       "      <td>NaN</td>\n",
       "      <td>NaN</td>\n",
       "    </tr>\n",
       "    <tr>\n",
       "      <td>2018-03-01 04:00:00</td>\n",
       "      <td>43</td>\n",
       "      <td>2018</td>\n",
       "      <td>3</td>\n",
       "      <td>1</td>\n",
       "      <td>3</td>\n",
       "      <td>1</td>\n",
       "      <td>4</td>\n",
       "      <td>0</td>\n",
       "      <td>66.0</td>\n",
       "      <td>71.0</td>\n",
       "      <td>85.0</td>\n",
       "      <td>124.0</td>\n",
       "      <td>NaN</td>\n",
       "      <td>NaN</td>\n",
       "      <td>NaN</td>\n",
       "    </tr>\n",
       "    <tr>\n",
       "      <td>...</td>\n",
       "      <td>...</td>\n",
       "      <td>...</td>\n",
       "      <td>...</td>\n",
       "      <td>...</td>\n",
       "      <td>...</td>\n",
       "      <td>...</td>\n",
       "      <td>...</td>\n",
       "      <td>...</td>\n",
       "      <td>...</td>\n",
       "      <td>...</td>\n",
       "      <td>...</td>\n",
       "      <td>...</td>\n",
       "      <td>...</td>\n",
       "      <td>...</td>\n",
       "      <td>...</td>\n",
       "    </tr>\n",
       "    <tr>\n",
       "      <td>2018-08-31 19:00:00</td>\n",
       "      <td>136</td>\n",
       "      <td>2018</td>\n",
       "      <td>8</td>\n",
       "      <td>31</td>\n",
       "      <td>4</td>\n",
       "      <td>31</td>\n",
       "      <td>19</td>\n",
       "      <td>0</td>\n",
       "      <td>207.0</td>\n",
       "      <td>217.0</td>\n",
       "      <td>197.0</td>\n",
       "      <td>116.0</td>\n",
       "      <td>133.0</td>\n",
       "      <td>166.0</td>\n",
       "      <td>173.3</td>\n",
       "    </tr>\n",
       "    <tr>\n",
       "      <td>2018-08-31 20:00:00</td>\n",
       "      <td>154</td>\n",
       "      <td>2018</td>\n",
       "      <td>8</td>\n",
       "      <td>31</td>\n",
       "      <td>4</td>\n",
       "      <td>31</td>\n",
       "      <td>20</td>\n",
       "      <td>0</td>\n",
       "      <td>136.0</td>\n",
       "      <td>207.0</td>\n",
       "      <td>217.0</td>\n",
       "      <td>197.0</td>\n",
       "      <td>116.0</td>\n",
       "      <td>133.0</td>\n",
       "      <td>166.6</td>\n",
       "    </tr>\n",
       "    <tr>\n",
       "      <td>2018-08-31 21:00:00</td>\n",
       "      <td>159</td>\n",
       "      <td>2018</td>\n",
       "      <td>8</td>\n",
       "      <td>31</td>\n",
       "      <td>4</td>\n",
       "      <td>31</td>\n",
       "      <td>21</td>\n",
       "      <td>0</td>\n",
       "      <td>154.0</td>\n",
       "      <td>136.0</td>\n",
       "      <td>207.0</td>\n",
       "      <td>217.0</td>\n",
       "      <td>197.0</td>\n",
       "      <td>116.0</td>\n",
       "      <td>162.9</td>\n",
       "    </tr>\n",
       "    <tr>\n",
       "      <td>2018-08-31 22:00:00</td>\n",
       "      <td>223</td>\n",
       "      <td>2018</td>\n",
       "      <td>8</td>\n",
       "      <td>31</td>\n",
       "      <td>4</td>\n",
       "      <td>31</td>\n",
       "      <td>22</td>\n",
       "      <td>0</td>\n",
       "      <td>159.0</td>\n",
       "      <td>154.0</td>\n",
       "      <td>136.0</td>\n",
       "      <td>207.0</td>\n",
       "      <td>217.0</td>\n",
       "      <td>197.0</td>\n",
       "      <td>162.1</td>\n",
       "    </tr>\n",
       "    <tr>\n",
       "      <td>2018-08-31 23:00:00</td>\n",
       "      <td>205</td>\n",
       "      <td>2018</td>\n",
       "      <td>8</td>\n",
       "      <td>31</td>\n",
       "      <td>4</td>\n",
       "      <td>31</td>\n",
       "      <td>23</td>\n",
       "      <td>0</td>\n",
       "      <td>223.0</td>\n",
       "      <td>159.0</td>\n",
       "      <td>154.0</td>\n",
       "      <td>136.0</td>\n",
       "      <td>207.0</td>\n",
       "      <td>217.0</td>\n",
       "      <td>170.8</td>\n",
       "    </tr>\n",
       "  </tbody>\n",
       "</table>\n",
       "<p>4416 rows × 15 columns</p>\n",
       "</div>"
      ],
      "text/plain": [
       "                     num_orders  year  month  day  dayofweek  dayofmonth  \\\n",
       "datetime                                                                   \n",
       "2018-03-01 00:00:00         124  2018      3    1          3           1   \n",
       "2018-03-01 01:00:00          85  2018      3    1          3           1   \n",
       "2018-03-01 02:00:00          71  2018      3    1          3           1   \n",
       "2018-03-01 03:00:00          66  2018      3    1          3           1   \n",
       "2018-03-01 04:00:00          43  2018      3    1          3           1   \n",
       "...                         ...   ...    ...  ...        ...         ...   \n",
       "2018-08-31 19:00:00         136  2018      8   31          4          31   \n",
       "2018-08-31 20:00:00         154  2018      8   31          4          31   \n",
       "2018-08-31 21:00:00         159  2018      8   31          4          31   \n",
       "2018-08-31 22:00:00         223  2018      8   31          4          31   \n",
       "2018-08-31 23:00:00         205  2018      8   31          4          31   \n",
       "\n",
       "                     hour  is_weekend  lag_1  lag_2  lag_3  lag_4  lag_5  \\\n",
       "datetime                                                                   \n",
       "2018-03-01 00:00:00     0           0    NaN    NaN    NaN    NaN    NaN   \n",
       "2018-03-01 01:00:00     1           0  124.0    NaN    NaN    NaN    NaN   \n",
       "2018-03-01 02:00:00     2           0   85.0  124.0    NaN    NaN    NaN   \n",
       "2018-03-01 03:00:00     3           0   71.0   85.0  124.0    NaN    NaN   \n",
       "2018-03-01 04:00:00     4           0   66.0   71.0   85.0  124.0    NaN   \n",
       "...                   ...         ...    ...    ...    ...    ...    ...   \n",
       "2018-08-31 19:00:00    19           0  207.0  217.0  197.0  116.0  133.0   \n",
       "2018-08-31 20:00:00    20           0  136.0  207.0  217.0  197.0  116.0   \n",
       "2018-08-31 21:00:00    21           0  154.0  136.0  207.0  217.0  197.0   \n",
       "2018-08-31 22:00:00    22           0  159.0  154.0  136.0  207.0  217.0   \n",
       "2018-08-31 23:00:00    23           0  223.0  159.0  154.0  136.0  207.0   \n",
       "\n",
       "                     lag_6  rolling_mean  \n",
       "datetime                                  \n",
       "2018-03-01 00:00:00    NaN           NaN  \n",
       "2018-03-01 01:00:00    NaN           NaN  \n",
       "2018-03-01 02:00:00    NaN           NaN  \n",
       "2018-03-01 03:00:00    NaN           NaN  \n",
       "2018-03-01 04:00:00    NaN           NaN  \n",
       "...                    ...           ...  \n",
       "2018-08-31 19:00:00  166.0         173.3  \n",
       "2018-08-31 20:00:00  133.0         166.6  \n",
       "2018-08-31 21:00:00  116.0         162.9  \n",
       "2018-08-31 22:00:00  197.0         162.1  \n",
       "2018-08-31 23:00:00  217.0         170.8  \n",
       "\n",
       "[4416 rows x 15 columns]"
      ]
     },
     "execution_count": 16,
     "metadata": {},
     "output_type": "execute_result"
    }
   ],
   "source": [
    "create_features(taxi_df, 6,10)"
   ]
  },
  {
   "cell_type": "markdown",
   "metadata": {},
   "source": [
    "<div class=\"alert alert-success\">\n",
    "<b>Reviewer's comment</b>\n",
    "\n",
    "Feature engineering looks good: you added calendar features, lag features and a correctly shifted rolling mean.\n",
    "\n",
    "</div>"
   ]
  },
  {
   "cell_type": "code",
   "execution_count": 17,
   "metadata": {},
   "outputs": [
    {
     "name": "stdout",
     "output_type": "stream",
     "text": [
      "2018-03-01 00:00:00 2018-08-13 13:00:00\n",
      "2018-08-13 14:00:00 2018-08-31 23:00:00\n"
     ]
    }
   ],
   "source": [
    "train,test = train_test_split(taxi_df,shuffle = False, test_size = .1)\n",
    "print(train.index.min(), train.index.max())\n",
    "print(test.index.min(), test.index.max())"
   ]
  },
  {
   "cell_type": "markdown",
   "metadata": {},
   "source": [
    "<div class=\"alert alert-success\">\n",
    "<b>Reviewer's comment</b>\n",
    "\n",
    "The data was split into train and test without shuffling, so the models won't cheat\n",
    "\n",
    "</div>"
   ]
  },
  {
   "cell_type": "code",
   "execution_count": 18,
   "metadata": {},
   "outputs": [],
   "source": [
    "train = train.dropna()\n",
    "features_train = train.drop('num_orders',axis=1)\n",
    "target_train = train['num_orders']\n",
    "features_test = test.drop('num_orders',axis=1)\n",
    "target_test = test['num_orders']"
   ]
  },
  {
   "cell_type": "markdown",
   "metadata": {},
   "source": [
    "# Conclusion\n",
    "\n",
    "The results shows an increasing trend and seasonality in the data. In order to build and trian the model, additional features were created from the datetime coulmn to capture the variations in the data."
   ]
  },
  {
   "cell_type": "markdown",
   "metadata": {},
   "source": [
    "## Training & Testing"
   ]
  },
  {
   "cell_type": "code",
   "execution_count": 19,
   "metadata": {},
   "outputs": [
    {
     "name": "stdout",
     "output_type": "stream",
     "text": [
      "MAE for train data: 23.406770364489315\n",
      "MAE for test data: 40.266346781232585\n",
      "RMSE for train data: 30.472185269351137\n",
      "RMSE for train data: 53.09117464537393\n"
     ]
    }
   ],
   "source": [
    "linear_Regression(features_train, features_test, target_train, target_test)"
   ]
  },
  {
   "cell_type": "code",
   "execution_count": 20,
   "metadata": {},
   "outputs": [
    {
     "name": "stdout",
     "output_type": "stream",
     "text": [
      "MAE for train data: 17.92370206004796\n",
      "MAE for test data: 39.53623888187096\n",
      "RMSE for train data: 23.57682473201688\n",
      "RMSE for train data: 53.047521685613866\n"
     ]
    }
   ],
   "source": [
    "Decision_tree_reg(features_train, features_test, target_train, target_test)"
   ]
  },
  {
   "cell_type": "code",
   "execution_count": 21,
   "metadata": {},
   "outputs": [
    {
     "name": "stdout",
     "output_type": "stream",
     "text": [
      "MAE for train data: 11.200138590590418\n",
      "MAE for test data: 34.48313327661838\n",
      "RMSE for train data: 14.944346586542505\n",
      "RMSE for train data: 46.50854402987712\n"
     ]
    }
   ],
   "source": [
    "RandomforestReg(features_train, features_test, target_train, target_test)"
   ]
  },
  {
   "cell_type": "code",
   "execution_count": 22,
   "metadata": {
    "scrolled": true
   },
   "outputs": [
    {
     "name": "stdout",
     "output_type": "stream",
     "text": [
      "[0]\tvalidation_0-rmse:140.767\n",
      "[1]\tvalidation_0-rmse:131.101\n",
      "[2]\tvalidation_0-rmse:123.233\n",
      "[3]\tvalidation_0-rmse:115.951\n",
      "[4]\tvalidation_0-rmse:109.504\n",
      "[5]\tvalidation_0-rmse:103.84\n",
      "[6]\tvalidation_0-rmse:98.0509\n",
      "[7]\tvalidation_0-rmse:93.4467\n",
      "[8]\tvalidation_0-rmse:88.9304\n",
      "[9]\tvalidation_0-rmse:85.3885\n",
      "[10]\tvalidation_0-rmse:81.6005\n",
      "[11]\tvalidation_0-rmse:78.144\n",
      "[12]\tvalidation_0-rmse:75.1545\n",
      "[13]\tvalidation_0-rmse:72.7344\n",
      "[14]\tvalidation_0-rmse:69.9527\n",
      "[15]\tvalidation_0-rmse:67.9976\n",
      "[16]\tvalidation_0-rmse:65.9982\n",
      "[17]\tvalidation_0-rmse:64.5159\n",
      "[18]\tvalidation_0-rmse:63.0455\n",
      "[19]\tvalidation_0-rmse:61.633\n",
      "[20]\tvalidation_0-rmse:60.4718\n",
      "[21]\tvalidation_0-rmse:59.3904\n",
      "[22]\tvalidation_0-rmse:58.2086\n",
      "[23]\tvalidation_0-rmse:57.4742\n",
      "[24]\tvalidation_0-rmse:56.6844\n",
      "[25]\tvalidation_0-rmse:55.8007\n",
      "[26]\tvalidation_0-rmse:54.9834\n",
      "[27]\tvalidation_0-rmse:54.337\n",
      "[28]\tvalidation_0-rmse:53.8288\n",
      "[29]\tvalidation_0-rmse:53.093\n",
      "[30]\tvalidation_0-rmse:52.3357\n",
      "[31]\tvalidation_0-rmse:52.0546\n",
      "[32]\tvalidation_0-rmse:51.7115\n",
      "[33]\tvalidation_0-rmse:51.3437\n",
      "[34]\tvalidation_0-rmse:51.1823\n",
      "[35]\tvalidation_0-rmse:50.8314\n",
      "[36]\tvalidation_0-rmse:50.47\n",
      "[37]\tvalidation_0-rmse:50.3093\n",
      "[38]\tvalidation_0-rmse:49.7324\n",
      "[39]\tvalidation_0-rmse:49.3127\n",
      "[40]\tvalidation_0-rmse:49.2442\n",
      "[41]\tvalidation_0-rmse:49.2565\n",
      "[42]\tvalidation_0-rmse:49.2908\n",
      "[43]\tvalidation_0-rmse:49.185\n",
      "[44]\tvalidation_0-rmse:49.0215\n",
      "[45]\tvalidation_0-rmse:49.0761\n",
      "[46]\tvalidation_0-rmse:48.9039\n",
      "[47]\tvalidation_0-rmse:49.0114\n",
      "[48]\tvalidation_0-rmse:48.9032\n",
      "[49]\tvalidation_0-rmse:48.9754\n",
      "[50]\tvalidation_0-rmse:48.7444\n",
      "[51]\tvalidation_0-rmse:48.8511\n",
      "[52]\tvalidation_0-rmse:48.7793\n",
      "[53]\tvalidation_0-rmse:48.7284\n",
      "[54]\tvalidation_0-rmse:48.6168\n",
      "[55]\tvalidation_0-rmse:48.5828\n",
      "[56]\tvalidation_0-rmse:48.308\n",
      "[57]\tvalidation_0-rmse:48.2599\n",
      "[58]\tvalidation_0-rmse:48.1312\n",
      "[59]\tvalidation_0-rmse:48.029\n",
      "[60]\tvalidation_0-rmse:47.9832\n",
      "[61]\tvalidation_0-rmse:47.7866\n",
      "[62]\tvalidation_0-rmse:47.7419\n",
      "[63]\tvalidation_0-rmse:47.7717\n",
      "[64]\tvalidation_0-rmse:47.678\n",
      "[65]\tvalidation_0-rmse:47.7461\n",
      "[66]\tvalidation_0-rmse:47.6565\n",
      "[67]\tvalidation_0-rmse:47.5805\n",
      "[68]\tvalidation_0-rmse:47.5647\n",
      "[69]\tvalidation_0-rmse:47.5193\n",
      "[70]\tvalidation_0-rmse:47.4543\n",
      "[71]\tvalidation_0-rmse:47.3423\n",
      "[72]\tvalidation_0-rmse:47.3379\n",
      "[73]\tvalidation_0-rmse:47.33\n",
      "[74]\tvalidation_0-rmse:47.3847\n",
      "[75]\tvalidation_0-rmse:47.2815\n",
      "[76]\tvalidation_0-rmse:47.3121\n",
      "[77]\tvalidation_0-rmse:47.28\n",
      "[78]\tvalidation_0-rmse:47.2238\n",
      "[79]\tvalidation_0-rmse:47.1841\n",
      "[80]\tvalidation_0-rmse:47.1718\n",
      "[81]\tvalidation_0-rmse:47.0717\n",
      "[82]\tvalidation_0-rmse:47.0716\n",
      "[83]\tvalidation_0-rmse:47.0808\n",
      "[84]\tvalidation_0-rmse:47.142\n",
      "[85]\tvalidation_0-rmse:47.1488\n",
      "[86]\tvalidation_0-rmse:46.9667\n",
      "[87]\tvalidation_0-rmse:46.9878\n",
      "[88]\tvalidation_0-rmse:47.0653\n",
      "[89]\tvalidation_0-rmse:47.1186\n",
      "[90]\tvalidation_0-rmse:47.1062\n",
      "[91]\tvalidation_0-rmse:47.1199\n",
      "[92]\tvalidation_0-rmse:47.1239\n",
      "[93]\tvalidation_0-rmse:47.0746\n",
      "[94]\tvalidation_0-rmse:47.0474\n",
      "[95]\tvalidation_0-rmse:47.0212\n",
      "[96]\tvalidation_0-rmse:46.949\n",
      "[97]\tvalidation_0-rmse:46.9591\n",
      "[98]\tvalidation_0-rmse:46.8924\n",
      "[99]\tvalidation_0-rmse:46.9412\n",
      "MAE for train data: 14.043271118649079\n",
      "MAE for test data: 35.247860787680786\n",
      "RMSE for train data: 18.250658404732476\n",
      "RMSE for train data: 46.94120484221309\n"
     ]
    }
   ],
   "source": [
    "xgboost(features_train, features_test, target_train, target_test)"
   ]
  },
  {
   "cell_type": "code",
   "execution_count": 23,
   "metadata": {},
   "outputs": [
    {
     "name": "stdout",
     "output_type": "stream",
     "text": [
      "MAE for train data: 11.504206304710374\n",
      "MAE for test data: 32.00135855338842\n",
      "RMSE for train data: 15.191170587628548\n",
      "RMSE for train data: 43.24963893954397\n"
     ]
    }
   ],
   "source": [
    "Lightgbmreg(features_train, features_test, target_train, target_test)"
   ]
  },
  {
   "cell_type": "markdown",
   "metadata": {},
   "source": [
    "# Model Results\n",
    "||Model|MAE Train|MAE Test|RMSE Train|RMSE Test|\n",
    "|--|--|--|--|--|--|\n",
    "|1|Linear Regression|23.40|40.26|30.47|53.09|\n",
    "|2|Decision Tree Reg|17.92|39.53|23.57|53.04|\n",
    "|3|RandomForest Reg|11.33|35.31|15.31|46.50|\n",
    "|4|XGBoost|14.04|35.24|18.25|46.94|\n",
    "|5|Light GBM|11.50|32.00|15.19|43.24|\n",
    "\n",
    "\n",
    "Previous analysis showed that, the data was not stationary subsequently the model was trained uing different models. The best results on RMSE test set came from **RandomForest 46.50, XGBoost  46.94 and LightGBM 43.24.**"
   ]
  },
  {
   "cell_type": "markdown",
   "metadata": {},
   "source": [
    "<div class=\"alert alert-success\">\n",
    "<b>Reviewer's comment</b>\n",
    "\n",
    "Excellent! You trained a few different models, tuned their hyperparameters using cross-validation with an appropriate split for time series and evaluated the final models on the test set. The results look good.\n",
    "\n",
    "</div>"
   ]
  },
  {
   "cell_type": "markdown",
   "metadata": {},
   "source": [
    "# Review checklist"
   ]
  },
  {
   "cell_type": "markdown",
   "metadata": {},
   "source": [
    "- [x]  Jupyter Notebook is open\n",
    "- [x]  The code is error-free\n",
    "- [x]  The cells with the code have been arranged in order of execution\n",
    "- [x]  The data has been downloaded and prepared\n",
    "- [x]  The data has been analyzed\n",
    "- [x]  The model has been trained and hyperparameters have been selected\n",
    "- [x]  The models have been evaluated. Conclusion has been provided\n",
    "- [x] *RMSE* for the test set is not more than 48"
   ]
  },
  {
   "cell_type": "code",
   "execution_count": null,
   "metadata": {},
   "outputs": [],
   "source": []
  }
 ],
 "metadata": {
  "ExecuteTimeLog": [
   {
    "duration": 7396,
    "start_time": "2021-10-06T03:40:26.112Z"
   },
   {
    "duration": 1233,
    "start_time": "2021-10-06T03:45:32.516Z"
   },
   {
    "duration": 398,
    "start_time": "2021-10-06T03:46:32.360Z"
   },
   {
    "duration": 17,
    "start_time": "2021-10-06T03:46:43.081Z"
   },
   {
    "duration": 138,
    "start_time": "2021-10-06T03:47:51.355Z"
   },
   {
    "duration": 4,
    "start_time": "2021-10-06T03:51:53.043Z"
   },
   {
    "duration": 41,
    "start_time": "2021-10-06T03:52:08.791Z"
   },
   {
    "duration": 249,
    "start_time": "2021-10-06T03:54:10.121Z"
   },
   {
    "duration": 261,
    "start_time": "2021-10-06T03:55:50.957Z"
   },
   {
    "duration": 251,
    "start_time": "2021-10-06T03:56:13.771Z"
   },
   {
    "duration": 9,
    "start_time": "2021-10-06T03:57:41.337Z"
   },
   {
    "duration": 233,
    "start_time": "2021-10-06T04:02:23.517Z"
   },
   {
    "duration": 5,
    "start_time": "2021-10-06T04:02:34.010Z"
   },
   {
    "duration": 6,
    "start_time": "2021-10-06T04:02:48.660Z"
   },
   {
    "duration": 3,
    "start_time": "2021-10-06T04:03:46.075Z"
   },
   {
    "duration": 229,
    "start_time": "2021-10-06T04:05:21.393Z"
   },
   {
    "duration": 703,
    "start_time": "2021-10-06T04:06:06.798Z"
   },
   {
    "duration": 3,
    "start_time": "2021-10-06T04:06:49.859Z"
   },
   {
    "duration": 6,
    "start_time": "2021-10-06T04:07:04.931Z"
   },
   {
    "duration": 733,
    "start_time": "2021-10-06T04:09:57.942Z"
   },
   {
    "duration": 338,
    "start_time": "2021-10-06T04:11:21.323Z"
   },
   {
    "duration": 242,
    "start_time": "2021-10-06T04:15:21.477Z"
   },
   {
    "duration": 251,
    "start_time": "2021-10-06T04:15:35.781Z"
   },
   {
    "duration": 276,
    "start_time": "2021-10-06T04:16:23.383Z"
   },
   {
    "duration": 242,
    "start_time": "2021-10-06T04:17:58.048Z"
   },
   {
    "duration": 7,
    "start_time": "2021-10-06T04:18:05.085Z"
   },
   {
    "duration": 8,
    "start_time": "2021-10-06T04:18:09.790Z"
   },
   {
    "duration": 1079,
    "start_time": "2021-10-06T04:18:35.328Z"
   },
   {
    "duration": 304,
    "start_time": "2021-10-06T04:23:28.646Z"
   },
   {
    "duration": 228,
    "start_time": "2021-10-06T04:24:15.936Z"
   },
   {
    "duration": 360,
    "start_time": "2021-10-06T04:24:50.078Z"
   },
   {
    "duration": 402,
    "start_time": "2021-10-06T04:28:21.783Z"
   },
   {
    "duration": 6,
    "start_time": "2021-10-06T04:33:08.012Z"
   },
   {
    "duration": 4,
    "start_time": "2021-10-06T04:33:42.117Z"
   },
   {
    "duration": 4,
    "start_time": "2021-10-06T04:43:09.051Z"
   },
   {
    "duration": 4,
    "start_time": "2021-10-06T04:44:09.508Z"
   },
   {
    "duration": 28,
    "start_time": "2021-10-06T04:44:13.284Z"
   },
   {
    "duration": 1112,
    "start_time": "2021-10-06T04:46:45.789Z"
   },
   {
    "duration": 73,
    "start_time": "2021-10-06T04:46:52.327Z"
   },
   {
    "duration": 4,
    "start_time": "2021-10-06T04:46:55.573Z"
   },
   {
    "duration": 45,
    "start_time": "2021-10-06T04:46:56.881Z"
   },
   {
    "duration": 268,
    "start_time": "2021-10-06T04:46:59.705Z"
   },
   {
    "duration": 9,
    "start_time": "2021-10-06T04:47:02.701Z"
   },
   {
    "duration": 4,
    "start_time": "2021-10-06T04:47:03.331Z"
   },
   {
    "duration": 4,
    "start_time": "2021-10-06T04:47:03.940Z"
   },
   {
    "duration": 4,
    "start_time": "2021-10-06T04:47:06.573Z"
   },
   {
    "duration": 793,
    "start_time": "2021-10-06T04:47:08.151Z"
   },
   {
    "duration": 355,
    "start_time": "2021-10-06T04:47:13.761Z"
   },
   {
    "duration": 9,
    "start_time": "2021-10-06T04:47:18.383Z"
   },
   {
    "duration": 373,
    "start_time": "2021-10-06T04:47:21.704Z"
   },
   {
    "duration": 9,
    "start_time": "2021-10-06T04:47:47.971Z"
   },
   {
    "duration": 1018,
    "start_time": "2021-10-06T04:47:49.148Z"
   },
   {
    "duration": 563,
    "start_time": "2021-10-06T04:47:53.550Z"
   },
   {
    "duration": 4,
    "start_time": "2021-10-06T04:48:19.381Z"
   },
   {
    "duration": 26,
    "start_time": "2021-10-06T04:48:21.447Z"
   },
   {
    "duration": 7,
    "start_time": "2021-10-06T04:48:54.168Z"
   },
   {
    "duration": 4,
    "start_time": "2021-10-06T04:48:55.821Z"
   },
   {
    "duration": 8,
    "start_time": "2021-10-06T04:51:33.183Z"
   },
   {
    "duration": 305,
    "start_time": "2021-10-06T04:53:08.217Z"
   },
   {
    "duration": 274,
    "start_time": "2021-10-06T04:53:16.261Z"
   },
   {
    "duration": 280,
    "start_time": "2021-10-06T04:54:56.677Z"
   },
   {
    "duration": 5,
    "start_time": "2021-10-06T04:55:06.644Z"
   },
   {
    "duration": 3,
    "start_time": "2021-10-06T04:59:05.634Z"
   },
   {
    "duration": 478,
    "start_time": "2021-10-06T05:00:03.235Z"
   },
   {
    "duration": 4,
    "start_time": "2021-10-06T05:03:48.902Z"
   },
   {
    "duration": 14,
    "start_time": "2021-10-06T05:03:49.825Z"
   },
   {
    "duration": 5,
    "start_time": "2021-10-06T05:08:53.280Z"
   },
   {
    "duration": 4,
    "start_time": "2021-10-06T05:14:44.602Z"
   },
   {
    "duration": 457,
    "start_time": "2021-10-06T05:15:04.719Z"
   },
   {
    "duration": 4,
    "start_time": "2021-10-06T05:15:16.969Z"
   },
   {
    "duration": 1345,
    "start_time": "2021-10-06T05:15:18.048Z"
   },
   {
    "duration": 4,
    "start_time": "2021-10-06T05:15:27.436Z"
   },
   {
    "duration": 486,
    "start_time": "2021-10-06T05:15:30.385Z"
   },
   {
    "duration": 4,
    "start_time": "2021-10-06T05:16:15.226Z"
   },
   {
    "duration": 468,
    "start_time": "2021-10-06T05:16:16.029Z"
   },
   {
    "duration": 4,
    "start_time": "2021-10-06T05:16:55.697Z"
   },
   {
    "duration": 472,
    "start_time": "2021-10-06T05:16:56.576Z"
   },
   {
    "duration": 4,
    "start_time": "2021-10-06T05:18:42.039Z"
   },
   {
    "duration": 1545,
    "start_time": "2021-10-06T05:18:44.659Z"
   },
   {
    "duration": 4,
    "start_time": "2021-10-06T05:21:28.977Z"
   },
   {
    "duration": 26120,
    "start_time": "2021-10-06T05:21:47.423Z"
   },
   {
    "duration": 4,
    "start_time": "2021-10-06T05:22:34.540Z"
   },
   {
    "duration": 25894,
    "start_time": "2021-10-06T05:22:36.171Z"
   },
   {
    "duration": 5,
    "start_time": "2021-10-06T05:24:26.976Z"
   },
   {
    "duration": 4,
    "start_time": "2021-10-06T05:25:20.295Z"
   },
   {
    "duration": 455,
    "start_time": "2021-10-06T05:25:21.452Z"
   },
   {
    "duration": 5,
    "start_time": "2021-10-06T05:25:42.394Z"
   },
   {
    "duration": 488,
    "start_time": "2021-10-06T05:25:43.345Z"
   },
   {
    "duration": 4,
    "start_time": "2021-10-06T05:25:57.329Z"
   },
   {
    "duration": 39,
    "start_time": "2021-10-06T05:25:58.125Z"
   },
   {
    "duration": 5,
    "start_time": "2021-10-06T05:28:14.676Z"
   },
   {
    "duration": 4,
    "start_time": "2021-10-06T05:32:54.421Z"
   },
   {
    "duration": 16,
    "start_time": "2021-10-06T05:32:55.643Z"
   },
   {
    "duration": 5,
    "start_time": "2021-10-06T05:33:40.244Z"
   },
   {
    "duration": 1519,
    "start_time": "2021-10-06T05:33:41.694Z"
   },
   {
    "duration": 5,
    "start_time": "2021-10-06T05:34:16.371Z"
   },
   {
    "duration": 24542,
    "start_time": "2021-10-06T05:34:19.324Z"
   },
   {
    "duration": 41,
    "start_time": "2021-10-06T05:44:29.792Z"
   },
   {
    "duration": 6,
    "start_time": "2021-10-06T05:46:30.462Z"
   },
   {
    "duration": 4564,
    "start_time": "2021-10-06T05:46:55.390Z"
   },
   {
    "duration": 5,
    "start_time": "2021-10-06T05:47:20.169Z"
   },
   {
    "duration": 4219,
    "start_time": "2021-10-06T05:47:20.939Z"
   },
   {
    "duration": 7,
    "start_time": "2021-10-06T05:47:49.588Z"
   },
   {
    "duration": 7,
    "start_time": "2021-10-06T05:49:19.859Z"
   },
   {
    "duration": 451,
    "start_time": "2021-10-06T05:49:45.716Z"
   },
   {
    "duration": 7,
    "start_time": "2021-10-06T05:59:41.638Z"
   },
   {
    "duration": 7,
    "start_time": "2021-10-06T06:00:03.783Z"
   },
   {
    "duration": 442,
    "start_time": "2021-10-06T06:01:23.461Z"
   },
   {
    "duration": 6,
    "start_time": "2021-10-06T06:03:07.198Z"
   },
   {
    "duration": 34814,
    "start_time": "2021-10-06T06:03:19.061Z"
   },
   {
    "duration": 2518,
    "start_time": "2021-10-06T06:04:46.742Z"
   },
   {
    "duration": 4,
    "start_time": "2021-10-06T06:15:55.552Z"
   },
   {
    "duration": 449,
    "start_time": "2021-10-06T06:15:57.320Z"
   },
   {
    "duration": 7,
    "start_time": "2021-10-06T06:16:40.905Z"
   },
   {
    "duration": 1143,
    "start_time": "2021-10-06T06:16:49.355Z"
   },
   {
    "duration": 4,
    "start_time": "2021-10-06T06:18:45.439Z"
   },
   {
    "duration": 463,
    "start_time": "2021-10-06T06:18:46.579Z"
   },
   {
    "duration": 5,
    "start_time": "2021-10-06T06:19:26.033Z"
   },
   {
    "duration": 479,
    "start_time": "2021-10-06T06:19:26.784Z"
   },
   {
    "duration": 5,
    "start_time": "2021-10-06T06:19:36.653Z"
   },
   {
    "duration": 568,
    "start_time": "2021-10-06T06:19:38.325Z"
   },
   {
    "duration": 5,
    "start_time": "2021-10-06T06:20:00.306Z"
   },
   {
    "duration": 1177,
    "start_time": "2021-10-06T06:20:01.841Z"
   },
   {
    "duration": 7,
    "start_time": "2021-10-06T06:20:31.082Z"
   },
   {
    "duration": 19911,
    "start_time": "2021-10-06T06:20:32.125Z"
   },
   {
    "duration": 4,
    "start_time": "2021-10-06T06:24:16.622Z"
   },
   {
    "duration": 69349,
    "start_time": "2021-10-06T06:24:19.974Z"
   },
   {
    "duration": 6,
    "start_time": "2021-10-06T06:27:11.700Z"
   },
   {
    "duration": 99277,
    "start_time": "2021-10-06T06:27:12.851Z"
   },
   {
    "duration": 5,
    "start_time": "2021-10-06T06:29:07.179Z"
   },
   {
    "duration": 93598,
    "start_time": "2021-10-06T06:29:08.037Z"
   },
   {
    "duration": 126,
    "start_time": "2021-10-06T06:31:55.120Z"
   },
   {
    "duration": 5,
    "start_time": "2021-10-06T06:32:02.289Z"
   },
   {
    "duration": 3170,
    "start_time": "2021-10-06T06:32:03.240Z"
   },
   {
    "duration": 5,
    "start_time": "2021-10-06T06:38:07.483Z"
   },
   {
    "duration": 574,
    "start_time": "2021-10-06T06:38:08.656Z"
   },
   {
    "duration": 8,
    "start_time": "2021-10-06T06:38:24.750Z"
   },
   {
    "duration": 1286,
    "start_time": "2021-10-06T06:38:25.394Z"
   },
   {
    "duration": 23,
    "start_time": "2021-10-06T06:40:47.124Z"
   },
   {
    "duration": 8,
    "start_time": "2021-10-06T06:40:51.057Z"
   },
   {
    "duration": 4,
    "start_time": "2021-10-06T06:40:52.958Z"
   },
   {
    "duration": 9,
    "start_time": "2021-10-06T06:40:55.296Z"
   },
   {
    "duration": 6,
    "start_time": "2021-10-06T06:40:58.052Z"
   },
   {
    "duration": 34,
    "start_time": "2021-10-06T06:41:00.717Z"
   },
   {
    "duration": 1342,
    "start_time": "2021-10-06T06:41:13.969Z"
   },
   {
    "duration": 74,
    "start_time": "2021-10-06T06:41:16.956Z"
   },
   {
    "duration": 4,
    "start_time": "2021-10-06T06:41:18.566Z"
   },
   {
    "duration": 50,
    "start_time": "2021-10-06T06:41:20.013Z"
   },
   {
    "duration": 297,
    "start_time": "2021-10-06T06:41:22.792Z"
   },
   {
    "duration": 10,
    "start_time": "2021-10-06T06:41:25.680Z"
   },
   {
    "duration": 4,
    "start_time": "2021-10-06T06:41:26.361Z"
   },
   {
    "duration": 5,
    "start_time": "2021-10-06T06:41:26.904Z"
   },
   {
    "duration": 6,
    "start_time": "2021-10-06T06:41:29.530Z"
   },
   {
    "duration": 882,
    "start_time": "2021-10-06T06:41:31.592Z"
   },
   {
    "duration": 388,
    "start_time": "2021-10-06T06:41:33.737Z"
   },
   {
    "duration": 12,
    "start_time": "2021-10-06T06:41:38.249Z"
   },
   {
    "duration": 375,
    "start_time": "2021-10-06T06:41:39.539Z"
   },
   {
    "duration": 9,
    "start_time": "2021-10-06T06:41:47.783Z"
   },
   {
    "duration": 1229,
    "start_time": "2021-10-06T06:41:49.275Z"
   },
   {
    "duration": 410,
    "start_time": "2021-10-06T06:41:54.592Z"
   },
   {
    "duration": 4,
    "start_time": "2021-10-06T06:41:59.414Z"
   },
   {
    "duration": 28,
    "start_time": "2021-10-06T06:42:00.845Z"
   },
   {
    "duration": 8,
    "start_time": "2021-10-06T06:42:04.092Z"
   },
   {
    "duration": 4,
    "start_time": "2021-10-06T06:42:05.273Z"
   },
   {
    "duration": 7,
    "start_time": "2021-10-06T06:42:05.964Z"
   },
   {
    "duration": 4,
    "start_time": "2021-10-06T06:42:08.667Z"
   },
   {
    "duration": 184,
    "start_time": "2021-10-06T06:42:09.461Z"
   },
   {
    "duration": 9,
    "start_time": "2021-10-06T06:42:12.544Z"
   },
   {
    "duration": 1099,
    "start_time": "2021-10-06T06:42:15.198Z"
   },
   {
    "duration": 5,
    "start_time": "2021-10-06T06:42:21.579Z"
   },
   {
    "duration": 93838,
    "start_time": "2021-10-06T06:42:22.546Z"
   },
   {
    "duration": 28,
    "start_time": "2021-10-06T06:44:43.340Z"
   },
   {
    "duration": 6,
    "start_time": "2021-10-06T06:44:48.860Z"
   },
   {
    "duration": 5,
    "start_time": "2021-10-06T06:44:50.500Z"
   },
   {
    "duration": 8,
    "start_time": "2021-10-06T06:44:51.729Z"
   },
   {
    "duration": 5,
    "start_time": "2021-10-06T06:44:54.467Z"
   },
   {
    "duration": 21,
    "start_time": "2021-10-06T06:44:55.631Z"
   },
   {
    "duration": 5,
    "start_time": "2021-10-06T06:44:59.919Z"
   },
   {
    "duration": 1483,
    "start_time": "2021-10-06T06:45:02.049Z"
   },
   {
    "duration": 5,
    "start_time": "2021-10-06T06:45:07.237Z"
   },
   {
    "duration": 93419,
    "start_time": "2021-10-06T06:45:08.326Z"
   },
   {
    "duration": 23,
    "start_time": "2021-10-06T06:48:55.928Z"
   },
   {
    "duration": 6,
    "start_time": "2021-10-06T06:49:01.172Z"
   },
   {
    "duration": 4,
    "start_time": "2021-10-06T06:49:02.477Z"
   },
   {
    "duration": 8,
    "start_time": "2021-10-06T06:49:05.512Z"
   },
   {
    "duration": 3,
    "start_time": "2021-10-06T06:49:07.722Z"
   },
   {
    "duration": 19,
    "start_time": "2021-10-06T06:49:09.880Z"
   },
   {
    "duration": 4,
    "start_time": "2021-10-06T06:49:13.401Z"
   },
   {
    "duration": 1413,
    "start_time": "2021-10-06T06:49:14.769Z"
   },
   {
    "duration": 5,
    "start_time": "2021-10-06T06:49:23.295Z"
   },
   {
    "duration": 90620,
    "start_time": "2021-10-06T06:49:29.308Z"
   },
   {
    "duration": 5,
    "start_time": "2021-10-06T06:58:58.063Z"
   },
   {
    "duration": 3720,
    "start_time": "2021-10-06T06:58:59.478Z"
   },
   {
    "duration": 7,
    "start_time": "2021-10-06T06:59:18.911Z"
   },
   {
    "duration": 3177,
    "start_time": "2021-10-06T06:59:23.308Z"
   },
   {
    "duration": 7,
    "start_time": "2021-10-06T07:00:05.973Z"
   },
   {
    "duration": 2481,
    "start_time": "2021-10-06T07:00:07.248Z"
   },
   {
    "duration": 26078,
    "start_time": "2021-10-06T07:00:13.066Z"
   },
   {
    "duration": 345,
    "start_time": "2021-10-06T07:03:41.703Z"
   },
   {
    "duration": 1040,
    "start_time": "2021-10-06T07:03:42.468Z"
   },
   {
    "duration": 12,
    "start_time": "2021-10-06T07:04:02.148Z"
   },
   {
    "duration": 1368,
    "start_time": "2021-10-06T07:04:03.736Z"
   },
   {
    "duration": 242,
    "start_time": "2021-10-06T07:04:27.541Z"
   },
   {
    "duration": 22,
    "start_time": "2021-10-06T07:05:01.821Z"
   },
   {
    "duration": 6,
    "start_time": "2021-10-06T07:05:13.265Z"
   },
   {
    "duration": 4,
    "start_time": "2021-10-06T07:05:14.359Z"
   },
   {
    "duration": 8,
    "start_time": "2021-10-06T07:05:15.659Z"
   },
   {
    "duration": 5,
    "start_time": "2021-10-06T07:05:18.774Z"
   },
   {
    "duration": 53,
    "start_time": "2021-10-06T07:05:19.597Z"
   },
   {
    "duration": 5,
    "start_time": "2021-10-06T07:05:24.213Z"
   },
   {
    "duration": 1434,
    "start_time": "2021-10-06T07:05:25.181Z"
   },
   {
    "duration": 5,
    "start_time": "2021-10-06T07:05:33.018Z"
   },
   {
    "duration": 94940,
    "start_time": "2021-10-06T07:05:34.246Z"
   },
   {
    "duration": 6,
    "start_time": "2021-10-06T07:11:47.938Z"
   },
   {
    "duration": 62,
    "start_time": "2021-10-06T07:11:48.883Z"
   },
   {
    "duration": 5,
    "start_time": "2021-10-06T07:12:23.326Z"
   },
   {
    "duration": 1421,
    "start_time": "2021-10-06T07:12:24.576Z"
   },
   {
    "duration": 5,
    "start_time": "2021-10-06T07:12:37.065Z"
   },
   {
    "duration": 97459,
    "start_time": "2021-10-06T07:12:38.514Z"
   },
   {
    "duration": 24,
    "start_time": "2021-10-06T07:15:56.158Z"
   },
   {
    "duration": 6,
    "start_time": "2021-10-06T07:16:00.037Z"
   },
   {
    "duration": 4,
    "start_time": "2021-10-06T07:16:00.774Z"
   },
   {
    "duration": 8,
    "start_time": "2021-10-06T07:16:01.428Z"
   },
   {
    "duration": 4,
    "start_time": "2021-10-06T07:16:04.296Z"
   },
   {
    "duration": 186,
    "start_time": "2021-10-06T07:16:05.360Z"
   },
   {
    "duration": 4,
    "start_time": "2021-10-06T07:16:08.777Z"
   },
   {
    "duration": 1393,
    "start_time": "2021-10-06T07:16:09.692Z"
   },
   {
    "duration": 5,
    "start_time": "2021-10-06T07:16:15.855Z"
   },
   {
    "duration": 90914,
    "start_time": "2021-10-06T07:16:16.657Z"
   },
   {
    "duration": 7,
    "start_time": "2021-10-06T07:17:54.418Z"
   },
   {
    "duration": 2432,
    "start_time": "2021-10-06T07:17:57.120Z"
   },
   {
    "duration": 6,
    "start_time": "2021-10-06T07:18:07.957Z"
   },
   {
    "duration": 4023,
    "start_time": "2021-10-06T07:18:09.049Z"
   },
   {
    "duration": 26449,
    "start_time": "2021-10-06T07:18:19.768Z"
   },
   {
    "duration": 6,
    "start_time": "2021-10-06T07:26:39.478Z"
   },
   {
    "duration": 95228,
    "start_time": "2021-10-06T07:26:40.707Z"
   },
   {
    "duration": 5,
    "start_time": "2021-10-06T07:28:34.465Z"
   },
   {
    "duration": 90745,
    "start_time": "2021-10-06T07:28:35.237Z"
   },
   {
    "duration": 1650,
    "start_time": "2021-10-06T07:33:38.918Z"
   },
   {
    "duration": 80,
    "start_time": "2021-10-06T07:33:43.399Z"
   },
   {
    "duration": 3,
    "start_time": "2021-10-06T07:33:46.617Z"
   },
   {
    "duration": 40,
    "start_time": "2021-10-06T07:33:48.237Z"
   },
   {
    "duration": 256,
    "start_time": "2021-10-06T07:33:52.657Z"
   },
   {
    "duration": 12,
    "start_time": "2021-10-06T07:34:21.649Z"
   },
   {
    "duration": 5,
    "start_time": "2021-10-06T07:34:33.991Z"
   },
   {
    "duration": 399,
    "start_time": "2021-10-06T07:35:05.511Z"
   },
   {
    "duration": 8,
    "start_time": "2021-10-06T07:35:22.523Z"
   },
   {
    "duration": 4,
    "start_time": "2021-10-06T07:39:52.936Z"
   },
   {
    "duration": 85,
    "start_time": "2021-10-06T07:40:13.868Z"
   },
   {
    "duration": 211,
    "start_time": "2021-10-06T07:40:29.444Z"
   },
   {
    "duration": 4,
    "start_time": "2021-10-06T07:41:27.478Z"
   },
   {
    "duration": 222,
    "start_time": "2021-10-06T07:41:28.197Z"
   },
   {
    "duration": 7,
    "start_time": "2021-10-06T07:41:45.518Z"
   },
   {
    "duration": 4,
    "start_time": "2021-10-06T07:41:56.583Z"
   },
   {
    "duration": 209,
    "start_time": "2021-10-06T07:41:58.150Z"
   },
   {
    "duration": 8,
    "start_time": "2021-10-06T07:46:17.784Z"
   },
   {
    "duration": 1100,
    "start_time": "2021-10-06T07:46:22.392Z"
   },
   {
    "duration": 4,
    "start_time": "2021-10-06T07:52:10.014Z"
   },
   {
    "duration": 468,
    "start_time": "2021-10-06T07:52:11.879Z"
   },
   {
    "duration": 5,
    "start_time": "2021-10-06T07:53:47.391Z"
   },
   {
    "duration": 847,
    "start_time": "2021-10-06T07:53:48.339Z"
   },
   {
    "duration": 274,
    "start_time": "2021-10-06T07:57:22.153Z"
   },
   {
    "duration": 387,
    "start_time": "2021-10-06T07:57:53.695Z"
   },
   {
    "duration": 4,
    "start_time": "2021-10-06T08:05:47.765Z"
   },
   {
    "duration": 368,
    "start_time": "2021-10-06T08:11:16.355Z"
   },
   {
    "duration": 4,
    "start_time": "2021-10-06T08:18:16.053Z"
   },
   {
    "duration": 231,
    "start_time": "2021-10-06T08:18:33.857Z"
   },
   {
    "duration": 31,
    "start_time": "2021-10-06T08:32:27.353Z"
   },
   {
    "duration": 8,
    "start_time": "2021-10-06T08:32:33.200Z"
   },
   {
    "duration": 7,
    "start_time": "2021-10-06T08:32:35.661Z"
   },
   {
    "duration": 4,
    "start_time": "2021-10-06T08:32:39.243Z"
   },
   {
    "duration": 19,
    "start_time": "2021-10-06T08:32:41.260Z"
   },
   {
    "duration": 4,
    "start_time": "2021-10-06T08:32:46.666Z"
   },
   {
    "duration": 17,
    "start_time": "2021-10-06T08:32:50.279Z"
   },
   {
    "duration": 4,
    "start_time": "2021-10-06T08:33:11.795Z"
   },
   {
    "duration": 1371,
    "start_time": "2021-10-06T08:33:18.560Z"
   },
   {
    "duration": 5,
    "start_time": "2021-10-06T08:33:29.875Z"
   },
   {
    "duration": 86305,
    "start_time": "2021-10-06T08:33:31.045Z"
   },
   {
    "duration": 6,
    "start_time": "2021-10-06T08:35:25.438Z"
   },
   {
    "duration": 3498,
    "start_time": "2021-10-06T08:35:27.890Z"
   },
   {
    "duration": 7,
    "start_time": "2021-10-06T08:35:57.678Z"
   },
   {
    "duration": 2180,
    "start_time": "2021-10-06T08:36:01.467Z"
   },
   {
    "duration": 23651,
    "start_time": "2021-10-06T08:36:14.112Z"
   },
   {
    "duration": 23,
    "start_time": "2021-10-06T09:03:56.433Z"
   },
   {
    "duration": 1199,
    "start_time": "2021-10-06T09:04:14.093Z"
   },
   {
    "duration": 132,
    "start_time": "2021-10-06T09:04:20.419Z"
   },
   {
    "duration": 24,
    "start_time": "2021-10-06T09:04:22.549Z"
   },
   {
    "duration": 42,
    "start_time": "2021-10-06T09:04:25.317Z"
   },
   {
    "duration": 326,
    "start_time": "2021-10-06T09:04:42.797Z"
   },
   {
    "duration": 14,
    "start_time": "2021-10-06T09:04:47.708Z"
   },
   {
    "duration": 358,
    "start_time": "2021-10-06T09:08:24.331Z"
   },
   {
    "duration": 9,
    "start_time": "2021-10-06T09:12:46.918Z"
   },
   {
    "duration": 223,
    "start_time": "2021-10-06T09:12:49.869Z"
   },
   {
    "duration": 239,
    "start_time": "2021-10-06T09:16:19.721Z"
   },
   {
    "duration": 883,
    "start_time": "2021-10-06T09:16:57.330Z"
   },
   {
    "duration": 1245,
    "start_time": "2021-10-06T09:35:24.477Z"
   },
   {
    "duration": 1122,
    "start_time": "2021-10-06T09:35:40.917Z"
   },
   {
    "duration": 249,
    "start_time": "2021-10-06T09:43:04.072Z"
   },
   {
    "duration": 359,
    "start_time": "2021-10-06T09:43:40.436Z"
   },
   {
    "duration": 256,
    "start_time": "2021-10-06T09:43:53.957Z"
   },
   {
    "duration": 252,
    "start_time": "2021-10-06T09:44:18.305Z"
   },
   {
    "duration": 262,
    "start_time": "2021-10-06T09:45:35.458Z"
   },
   {
    "duration": 1103,
    "start_time": "2021-10-06T10:04:44.844Z"
   },
   {
    "duration": 525,
    "start_time": "2021-10-06T10:05:28.977Z"
   },
   {
    "duration": 452,
    "start_time": "2021-10-06T10:06:07.780Z"
   },
   {
    "duration": 264,
    "start_time": "2021-10-06T10:06:30.091Z"
   },
   {
    "duration": 29,
    "start_time": "2021-10-06T10:08:23.528Z"
   },
   {
    "duration": 382,
    "start_time": "2021-10-06T10:08:28.485Z"
   },
   {
    "duration": 1286,
    "start_time": "2021-10-06T10:08:52.913Z"
   },
   {
    "duration": 128,
    "start_time": "2021-10-06T10:08:54.493Z"
   },
   {
    "duration": 24,
    "start_time": "2021-10-06T10:08:55.264Z"
   },
   {
    "duration": 46,
    "start_time": "2021-10-06T10:08:56.880Z"
   },
   {
    "duration": 341,
    "start_time": "2021-10-06T10:08:58.723Z"
   },
   {
    "duration": 12,
    "start_time": "2021-10-06T10:09:01.023Z"
   },
   {
    "duration": 359,
    "start_time": "2021-10-06T10:09:03.980Z"
   },
   {
    "duration": 8,
    "start_time": "2021-10-06T10:09:08.613Z"
   },
   {
    "duration": 292,
    "start_time": "2021-10-06T10:09:09.323Z"
   },
   {
    "duration": 222,
    "start_time": "2021-10-06T10:09:12.697Z"
   },
   {
    "duration": 262,
    "start_time": "2021-10-06T10:09:16.290Z"
   },
   {
    "duration": 247,
    "start_time": "2021-10-06T10:09:19.024Z"
   },
   {
    "duration": 938,
    "start_time": "2021-10-06T10:09:21.556Z"
   },
   {
    "duration": 291,
    "start_time": "2021-10-06T10:09:28.265Z"
   },
   {
    "duration": 512,
    "start_time": "2021-10-06T10:09:30.149Z"
   },
   {
    "duration": 30,
    "start_time": "2021-10-06T10:09:38.356Z"
   },
   {
    "duration": 8,
    "start_time": "2021-10-06T10:09:43.568Z"
   },
   {
    "duration": 9,
    "start_time": "2021-10-06T10:09:44.768Z"
   },
   {
    "duration": 22,
    "start_time": "2021-10-06T10:12:42.634Z"
   },
   {
    "duration": 1351,
    "start_time": "2021-10-06T10:12:49.303Z"
   },
   {
    "duration": 87154,
    "start_time": "2021-10-06T10:12:57.753Z"
   },
   {
    "duration": 3429,
    "start_time": "2021-10-06T10:14:55.319Z"
   },
   {
    "duration": 2270,
    "start_time": "2021-10-06T10:14:58.749Z"
   },
   {
    "duration": 1311,
    "start_time": "2021-10-06T10:47:52.078Z"
   },
   {
    "duration": 80,
    "start_time": "2021-10-06T10:47:55.207Z"
   },
   {
    "duration": 25,
    "start_time": "2021-10-06T10:47:57.077Z"
   },
   {
    "duration": 43,
    "start_time": "2021-10-06T10:47:59.585Z"
   },
   {
    "duration": 339,
    "start_time": "2021-10-06T10:48:01.208Z"
   },
   {
    "duration": 13,
    "start_time": "2021-10-06T10:48:03.006Z"
   },
   {
    "duration": 351,
    "start_time": "2021-10-06T10:48:06.472Z"
   },
   {
    "duration": 9,
    "start_time": "2021-10-06T10:48:09.865Z"
   },
   {
    "duration": 213,
    "start_time": "2021-10-06T10:48:10.762Z"
   },
   {
    "duration": 283,
    "start_time": "2021-10-06T10:48:15.671Z"
   },
   {
    "duration": 469,
    "start_time": "2021-10-06T10:48:19.112Z"
   },
   {
    "duration": 236,
    "start_time": "2021-10-06T10:48:22.254Z"
   },
   {
    "duration": 249,
    "start_time": "2021-10-06T10:48:31.928Z"
   },
   {
    "duration": 256,
    "start_time": "2021-10-06T10:48:35.188Z"
   },
   {
    "duration": 880,
    "start_time": "2021-10-06T10:48:38.391Z"
   },
   {
    "duration": 31,
    "start_time": "2021-10-06T10:48:43.468Z"
   },
   {
    "duration": 8,
    "start_time": "2021-10-06T10:48:49.225Z"
   },
   {
    "duration": 8,
    "start_time": "2021-10-06T10:48:53.526Z"
   },
   {
    "duration": 80,
    "start_time": "2021-10-06T10:48:57.466Z"
   },
   {
    "duration": 1384,
    "start_time": "2021-10-06T10:48:58.449Z"
   },
   {
    "duration": 87929,
    "start_time": "2021-10-06T10:48:59.837Z"
   },
   {
    "duration": 3691,
    "start_time": "2021-10-06T10:50:27.768Z"
   },
   {
    "duration": 2209,
    "start_time": "2021-10-06T10:50:31.462Z"
   }
  ],
  "kernelspec": {
   "display_name": "Python 3 (ipykernel)",
   "language": "python",
   "name": "python3"
  },
  "language_info": {
   "codemirror_mode": {
    "name": "ipython",
    "version": 3
   },
   "file_extension": ".py",
   "mimetype": "text/x-python",
   "name": "python",
   "nbconvert_exporter": "python",
   "pygments_lexer": "ipython3",
   "version": "3.9.7"
  },
  "toc": {
   "base_numbering": 1,
   "nav_menu": {},
   "number_sections": true,
   "sideBar": true,
   "skip_h1_title": true,
   "title_cell": "Table of Contents",
   "title_sidebar": "Contents",
   "toc_cell": false,
   "toc_position": {},
   "toc_section_display": true,
   "toc_window_display": false
  }
 },
 "nbformat": 4,
 "nbformat_minor": 2
}
